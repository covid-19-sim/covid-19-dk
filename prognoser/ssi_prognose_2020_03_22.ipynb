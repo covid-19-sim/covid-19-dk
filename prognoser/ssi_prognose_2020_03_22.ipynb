{
 "cells": [
  {
   "cell_type": "markdown",
   "source": [
    "# Seruminstituttet og Sundhedsstyrelses prognose af 22. marts 2020.\n",
    "\n",
    "\n",
    "Denne *notebook* baserer sig på modellen, der er skitseret i notatet,\n",
    "*Håndtering af COVID-19: Prognose og kapacitet i Danmark for intensiv\n",
    "terapi* [ITA_COVID_19_](ITA_COVID_19_220320.pdf)\n",
    "\n",
    "Notatet er udarbejdet sammen med RUC uden nærmere angivelse, måske \n",
    "[professor Lone Simonsen](https://forskning.ruc.dk/da/persons/lonesimo), der forsker i modellering \n",
    "af pandemier."
   ],
   "metadata": {
    "collapsed": false,
    "pycharm": {
     "name": "#%% md\n"
    }
   }
  },
  {
   "cell_type": "markdown",
   "source": [
    "Lad os komme i gang. Først har vi brug for nogle databehandlingspakker:"
   ],
   "metadata": {
    "collapsed": false,
    "pycharm": {
     "name": "#%% md\n"
    }
   }
  },
  {
   "cell_type": "code",
   "execution_count": null,
   "outputs": [],
   "source": [
    "import numpy as np\n",
    "import matplotlib.pyplot as plt\n",
    "import pandas as pd\n",
    "import seaborn as sns\n",
    "from scipy.integrate import odeint"
   ],
   "metadata": {
    "collapsed": false,
    "pycharm": {
     "name": "#%%\n",
     "is_executing": false
    }
   }
  },
  {
   "cell_type": "markdown",
   "source": [
    "## SIR-modellen\n",
    "[SIR-modellen](https://da.wikipedia.org/wiki/SIR-modellen) er en simpel infektionsmodel.\n",
    "\n",
    "S, I, og R står for henholdsvis *Susceptible* (hvor man kan få sygdommen, som ikke har haft den endnu), \n",
    "*Infectuous* (hvor mange har den nu og kan smitte andre), og\n",
    "*Recovered* (dem der ikke længere har sygdommen, både de raske og de døde).\n",
    "\n",
    "Udviklingen over tid beskrives med nogle simple differentialligninger.\n",
    "\n",
    "Modellen er også vist med kodeeksempler i [SciPython-bogen](https://scipython.com/book/chapter-8-scipy/additional-examples/the-sir-epidemic-model/).\n",
    "Disse danner udgangspunkt for nedenstående.\n"
   ],
   "metadata": {
    "collapsed": false
   }
  },
  {
   "cell_type": "markdown",
   "source": [
    "Notatet skifter lidt mellem en befolkning på 5,8 mio. og 5,7 mio. personer i Danmark.\n",
    "Vi regner med 5,8.\n",
    "\n",
    "Se Danmarks Statistiks [Folketal](https://www.dst.dk/da/Statistik/emner/befolkning-og-valg/befolkning-og-befolkningsfremskrivning/folketal)\n",
    " "
   ],
   "metadata": {
    "collapsed": false,
    "pycharm": {
     "name": "#%% md\n"
    }
   }
  },
  {
   "cell_type": "code",
   "execution_count": null,
   "outputs": [],
   "source": [
    "# Total befolkning, N.\n",
    "N = 5_800_000"
   ],
   "metadata": {
    "collapsed": false,
    "pycharm": {
     "name": "#%%\n",
     "is_executing": false
    }
   }
  },
  {
   "cell_type": "code",
   "execution_count": null,
   "outputs": [],
   "source": [
    "# Udgangspunktet, antal personer i I hhv. R tilstandene, I0 and R0.\n",
    "I0, R0 = 1, 0\n",
    "\n",
    "# Resten er *susceptible* ved start, S0.\n",
    "S0 = N - I0 - R0\n",
    "\n",
    "# Beta beskriver hvor smitsom sygdommen er\n",
    "# Gamma beskriver hvor længe de er smitsomme i middel (1/d dage)\n",
    "\n",
    "# Notatet antager folk kan smitte i 7 dage\n",
    "gamma = 1./7  \n",
    "\n",
    "# Notatet antager, at syge smitter 2,6 personer (forholdet mellem beta og gamma)\n",
    "beta = 2.6*gamma"
   ],
   "metadata": {
    "collapsed": false,
    "pycharm": {
     "name": "#%%\n",
     "is_executing": false
    }
   }
  },
  {
   "cell_type": "code",
   "execution_count": null,
   "outputs": [],
   "source": [
    "# Tid i dage (notatet siger 12 uger, men figur 2 er regnet på 15 uger)\n",
    "UGER = 15\n",
    "t = np.linspace(0, UGER*7, UGER*7)"
   ],
   "metadata": {
    "collapsed": false,
    "pycharm": {
     "name": "#%%\n",
     "is_executing": false
    }
   }
  },
  {
   "cell_type": "code",
   "source": [
    "# SIR modellens differentialligninger\n",
    "def deriv(y, t, N, beta, gamma):\n",
    "    S, I, R = y\n",
    "    dSdt = -beta * S * I / N\n",
    "    dIdt = beta * S * I / N - gamma * I\n",
    "    dRdt = gamma * I\n",
    "    return dSdt, dIdt, dRdt\n",
    "\n",
    "# Starttilstandsvektor\n",
    "y0 = S0, I0, R0\n",
    "# Integrer SIR-modellen equations over the tidsaksen, t.\n",
    "ret = odeint(deriv, y0, t, args=(N, beta, gamma))\n",
    "S, I, R = ret.T"
   ],
   "metadata": {
    "collapsed": false,
    "pycharm": {
     "name": "#%% \n",
     "is_executing": false
    }
   },
   "execution_count": null,
   "outputs": []
  },
  {
   "cell_type": "markdown",
   "source": [
    "Sådan ser totalerne ud "
   ],
   "metadata": {
    "collapsed": false,
    "pycharm": {
     "name": "#%% md\n",
     "is_executing": false
    }
   }
  },
  {
   "cell_type": "code",
   "execution_count": null,
   "outputs": [],
   "source": [
    "# Plot the data on three separate curves for S(t), I(t) and R(t)\n",
    "fig = plt.figure(facecolor='w')\n",
    "ax = fig.add_subplot(111, axisbelow=True)\n",
    "ax.plot(t, S/1_000, 'b', alpha=0.5, lw=2, label='Susceptible')\n",
    "ax.plot(t, I/1_000, 'r', alpha=0.5, lw=2, label='Infected')\n",
    "ax.plot(t, R/1_000, 'g', alpha=0.5, lw=2, label='Recovered with immunity')\n",
    "ax.set_xlabel('Time /days')\n",
    "ax.set_ylabel('Number (1000s)')\n",
    "ax.yaxis.set_tick_params(length=0)\n",
    "ax.xaxis.set_tick_params(length=0)\n",
    "ax.grid(b=True, which='major', c='w', lw=2, ls='-')\n",
    "legend = ax.legend()\n",
    "legend.get_frame().set_alpha(0.5)\n",
    "for spine in ('top', 'right', 'bottom', 'left'):\n",
    "    ax.spines[spine].set_visible(False)\n",
    "plt.show()"
   ],
   "metadata": {
    "collapsed": false,
    "pycharm": {
     "name": "#%%\n",
     "is_executing": false
    }
   }
  },
  {
   "cell_type": "markdown",
   "source": [
    "Lad os prøve at reproducere notatets figur 2:\n",
    "\n",
    "TODO"
   ],
   "metadata": {
    "collapsed": false,
    "pycharm": {
     "name": "#%% md\n",
     "is_executing": false
    }
   }
  },
  {
   "cell_type": "code",
   "execution_count": null,
   "outputs": [],
   "source": [
    "delta_S = S[1:] - S[:-1]\n",
    "nye_smittede = -delta_S\n",
    "max_nye_smittede = np.max(nye_smittede)\n",
    "t_nye_smittede = t[1:]"
   ],
   "metadata": {
    "collapsed": false,
    "pycharm": {
     "name": "#%%\n",
     "is_executing": false
    }
   }
  },
  {
   "cell_type": "code",
   "execution_count": null,
   "outputs": [],
   "source": [
    "fig = plt.figure(facecolor='w')\n",
    "ax = fig.add_subplot(111, axisbelow=True)\n",
    "ax.plot(t_nye_smittede, nye_smittede, 'r', alpha=0.5, lw=2, label='Nye smittede')\n",
    "plt.suptitle('Figur 2 fra notatet')\n",
    "plt.axhline(y=max_nye_smittede, color='grey', linestyle='--', label=\"max\")\n",
    "plt.show()"
   ],
   "metadata": {
    "collapsed": false,
    "pycharm": {
     "name": "#%%\n",
     "is_executing": false
    }
   }
  },
  {
   "cell_type": "markdown",
   "source": [
    " \n",
    "## Empiriske data\n",
    "Data kan hentes fra Sundhedsstyrelsen, [Tal og overvågning](https://www.sst.dk/da/corona/tal-og-overvaagning)."
   ],
   "metadata": {
    "collapsed": false,
    "pycharm": {
     "name": "#%% md\n"
    }
   }
  },
  {
   "cell_type": "code",
   "execution_count": null,
   "outputs": [],
   "source": [],
   "metadata": {
    "collapsed": false,
    "pycharm": {
     "name": "#%%\n",
     "is_executing": false
    }
   }
  }
 ],
 "metadata": {
  "kernelspec": {
   "display_name": "Python 3",
   "language": "python",
   "name": "python3"
  },
  "language_info": {
   "codemirror_mode": {
    "name": "ipython",
    "version": 2
   },
   "file_extension": ".py",
   "mimetype": "text/x-python",
   "name": "python",
   "nbconvert_exporter": "python",
   "pygments_lexer": "ipython2",
   "version": "2.7.6"
  },
  "pycharm": {
   "stem_cell": {
    "cell_type": "raw",
    "source": [],
    "metadata": {
     "collapsed": false
    }
   }
  }
 },
 "nbformat": 4,
 "nbformat_minor": 0
}