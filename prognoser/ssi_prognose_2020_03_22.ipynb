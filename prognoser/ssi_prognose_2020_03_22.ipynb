{
 "cells": [
  {
   "cell_type": "markdown",
   "source": [
    "# Seruminstituttet og Sundhedsstyrelses prognose af 22. marts 2020.\n",
    "\n",
    "\n",
    "Denne *notebook* baserer sig på modellen, der er skitseret i notatet,\n",
    "*Håndtering af COVID-19: Prognose og kapacitet i Danmark for intensiv\n",
    "terapi* [ITA_COVID_19_](ITA_COVID_19_220320.pdf)\n",
    "\n",
    "Notatet er udarbejdet sammen med RUC uden nærmere angivelse, måske \n",
    "[professor Lone Simonsen](https://forskning.ruc.dk/da/persons/lonesimo), der forsker i modellering \n",
    "af pandemier."
   ],
   "metadata": {
    "collapsed": false,
    "pycharm": {
     "name": "#%% md\n"
    }
   }
  },
  {
   "cell_type": "markdown",
   "source": [
    "Lad os komme i gang. Først har vi brug for nogle databehandlingspakker:"
   ],
   "metadata": {
    "collapsed": false,
    "pycharm": {
     "name": "#%% md\n"
    }
   }
  },
  {
   "cell_type": "code",
   "execution_count": null,
   "outputs": [],
   "source": [
    "import numpy as np\n",
    "import matplotlib.pyplot as plt\n",
    "import pandas as pd\n",
    "import seaborn as sns\n",
    "from scipy.integrate import odeint"
   ],
   "metadata": {
    "collapsed": false,
    "pycharm": {
     "name": "#%%\n",
     "is_executing": false
    }
   }
  },
  {
   "cell_type": "markdown",
   "source": [
    "## SIR-modellen\n",
    "[SIR-modellen](https://da.wikipedia.org/wiki/SIR-modellen) er en simpel infektionsmodel.\n",
    "\n",
    "S, I, og R står for henholdsvis *Susceptible* (hvor man kan få sygdommen, som ikke har haft den endnu), \n",
    "*Infectuous* (hvor mange har den nu og kan smitte andre), og\n",
    "*Recovered* (dem der ikke længere har sygdommen, både de raske og de døde).\n",
    "\n",
    "Udviklingen over tid beskrives med nogle simple differentialligninger.\n",
    "\n",
    "Modellen er også vist med kodeeksempler i [SciPython-bogen](https://scipython.com/book/chapter-8-scipy/additional-examples/the-sir-epidemic-model/).\n",
    "Disse danner udgangspunkt for nedenstående.\n"
   ],
   "metadata": {
    "collapsed": false
   }
  },
  {
   "cell_type": "markdown",
   "source": [
    "## Befolkningsantagelser\n",
    "**NB** Notatet skifter mellem en befolkning på 5,8 mio. (figur 1 på side 3) \n",
    "og 5,7 mio. personer i Danmark.\n",
    "\n",
    "Vi regner med 5,8, som stemmer med Danmarks Statistiks [Folketal](https://www.dst.dk/da/Statistik/emner/befolkning-og-valg/befolkning-og-befolkningsfremskrivning/folketal)."
   ],
   "metadata": {
    "collapsed": false,
    "pycharm": {
     "name": "#%% md\n"
    }
   }
  },
  {
   "cell_type": "code",
   "execution_count": null,
   "outputs": [],
   "source": [
    "# Total befolkning\n",
    "BEFOLKNINGSTAL = 5_800_000"
   ],
   "metadata": {
    "collapsed": false,
    "pycharm": {
     "name": "#%%\n",
     "is_executing": false
    }
   }
  },
  {
   "cell_type": "markdown",
   "source": [
    "## Smitteantagelser\n",
    "$\\beta$ (beta) beskriver hvor smitsom sygdommen er.\n",
    "\n",
    "$\\gamma$ (gamma) beskriver hvor hurtigt folk holder op med at være smitsomme, det reciprokke af \n",
    " hvor mange dage de smitter.\n",
    "\n",
    "*Reproduktionstallet* $R_0$ (engelsk, \"R-nought\") angiver hvor mange andre en \n",
    "smittet person smitter.\n",
    "\n",
    "I SIR-modellen kan det udtrykkes som:\n",
    "\n",
    "$$R_0 = {\\beta\\over\\gamma}$$"
   ],
   "metadata": {
    "collapsed": false,
    "pycharm": {
     "name": "#%% md\n"
    }
   }
  },
  {
   "cell_type": "code",
   "execution_count": null,
   "outputs": [],
   "source": [
    "# Notatet antager, at folk kan smitte i 7 dage (dvs. 1/7 holder op med at smitte pr dag)\n",
    "gamma = 1./7\n",
    "\n",
    "# Notatet antager, at syge smitter 2,6 personer \n",
    "# (dette er reproduktionsraten R0, forholdet mellem beta og gamma)\n",
    "R0 = 2.6\n",
    "beta = R0*gamma"
   ],
   "metadata": {
    "collapsed": false,
    "pycharm": {
     "name": "#%%\n",
     "is_executing": false
    }
   }
  },
  {
   "cell_type": "code",
   "execution_count": null,
   "outputs": [],
   "source": [
    "# Tid i dage (notatet siger 12 uger, men figur 2 er regnet på 15 uger)\n",
    "UGER = 15\n",
    "t = np.linspace(0, UGER*7, UGER*7)"
   ],
   "metadata": {
    "collapsed": false,
    "pycharm": {
     "name": "#%%\n",
     "is_executing": false
    }
   }
  },
  {
   "cell_type": "code",
   "source": [
    "# SIR modellens differentialligninger\n",
    "def afledte(y, t, N, beta, gamma):\n",
    "    S, I, R = y\n",
    "    dSdt = -beta * S * I / N\n",
    "    dIdt = beta * S * I / N - gamma * I\n",
    "    dRdt = gamma * I\n",
    "    return dSdt, dIdt, dRdt\n",
    "\n",
    "# Udgangspunktet, antal personer i hhv. tilstandene, S, I og R\n",
    "# Vi anvender _start som betegnelse for ikke at skabe\n",
    "# forvirring om reproduktionstallet R0 og startværdien for R.\n",
    "\n",
    "def sir_prognose(angrebsrate, befolkningstal):\n",
    "    assert 0 < angrebsrate < 1.0\n",
    "    assert befolkningstal > 0\n",
    "    \n",
    "    # Det er ikke alle i befolkningen, der er modtagelige\n",
    "    N = angrebsrate * befolkningstal\n",
    "    I_start, R_start = 1, 0\n",
    "    # Resten er *susceptible* ved start, Sstart.\n",
    "    S_start = N - I_start - R_start\n",
    "    \n",
    "    # Starttilstandsvektor\n",
    "    y_start = S_start, I_start, R_start\n",
    "    \n",
    "    # Integrer SIR-modellen equations over the tidsaksen, t.\n",
    "    ret = odeint(afledte, y_start, t, args=(N, beta, gamma))\n",
    "    S, I, R = ret.T\n",
    "    \n",
    "    return S.astype(np.int), I.astype(np.int), R.astype(np.int)"
   ],
   "metadata": {
    "collapsed": false,
    "pycharm": {
     "name": "#%% \n",
     "is_executing": false
    }
   },
   "execution_count": null,
   "outputs": []
  },
  {
   "cell_type": "code",
   "execution_count": null,
   "outputs": [],
   "source": [
    "S,I,R = sir_prognose(angrebsrate=0.10, befolkningstal=BEFOLKNINGSTAL)"
   ],
   "metadata": {
    "collapsed": false,
    "pycharm": {
     "name": "#%%\n",
     "is_executing": false
    }
   }
  },
  {
   "cell_type": "markdown",
   "source": [
    "Sådan ser totalerne ud: "
   ],
   "metadata": {
    "collapsed": false,
    "pycharm": {
     "name": "#%% md\n",
     "is_executing": false
    }
   }
  },
  {
   "cell_type": "code",
   "execution_count": null,
   "outputs": [],
   "source": [
    "# Plot the data on three separate curves for S(t), I(t) and R(t)\n",
    "fig = plt.figure(facecolor='w')\n",
    "\n",
    "ax = fig.add_subplot(111, axisbelow=True)\n",
    "ax.plot(t, S/1_000, 'b', alpha=0.5, lw=2, label='Susceptible')\n",
    "ax.plot(t, I/1_000, 'r', alpha=0.5, lw=2, label='Infected')\n",
    "ax.plot(t, R/1_000, 'g', alpha=0.5, lw=2, label='Recovered with immunity')\n",
    "ax.set_xlabel('Tid (dage)')\n",
    "ax.set_ylabel('Antal (1000er)')\n",
    "ax.yaxis.set_tick_params(length=0)\n",
    "ax.xaxis.set_tick_params(length=0)\n",
    "ax.grid(b=True, which='major', c='grey', lw=1, ls='-')\n",
    "legend = ax.legend()\n",
    "legend.get_frame().set_alpha(0.5)\n",
    "for spine in ('top', 'right', 'bottom', 'left'):\n",
    "    ax.spines[spine].set_visible(False)\n",
    "plt.show()"
   ],
   "metadata": {
    "collapsed": false,
    "pycharm": {
     "name": "#%%\n",
     "is_executing": false
    }
   }
  },
  {
   "cell_type": "markdown",
   "source": [
    "Lad os prøve at reproducere notatets **figur 2** på side 4.\n",
    "\n",
    "Her laver de en kurve for Lombardiet, Veneto og Emilia Romagna.\n",
    "Sidenhen skalerer de så til danske forhold.\n",
    "\n",
    "Vi skal således beregne kurven for de tre italienske regioner:"
   ],
   "metadata": {
    "collapsed": false,
    "pycharm": {
     "name": "#%% md\n",
     "is_executing": false
    }
   }
  },
  {
   "cell_type": "code",
   "execution_count": null,
   "outputs": [],
   "source": [
    "S,I,R = sir_prognose(angrebsrate=0.10, befolkningstal=18_000_000)"
   ],
   "metadata": {
    "collapsed": false,
    "pycharm": {
     "name": "#%%\n",
     "is_executing": false
    }
   }
  },
  {
   "cell_type": "code",
   "execution_count": null,
   "outputs": [],
   "source": [
    "# Nye smittede er dem der falder ud af S (raskhedstilstanden) \n",
    "delta_smittede = -np.diff(S, n=1) # deltaerne fra dag 2 og frem\n",
    "max_nye_smittede = np.max(delta_smittede)\n",
    "max_I = np.max(I)\n",
    "t_top = np.argmax(delta_smittede)\n",
    "\n",
    "print(f'max nye smittede på en dag = {max_nye_smittede}')\n",
    "print(f'max I = {max_I}')\n",
    "print(f'dage til top = {t_top} ')"
   ],
   "metadata": {
    "collapsed": false,
    "pycharm": {
     "name": "#%%\n",
     "is_executing": false
    }
   }
  },
  {
   "cell_type": "code",
   "execution_count": null,
   "outputs": [],
   "source": [
    "fig = plt.figure(facecolor='w')\n",
    "ax = fig.add_subplot(111, axisbelow=True)\n",
    "ax.plot(t[1:], delta_smittede, 'r', alpha=0.5, lw=2, label='Nye smittede')\n",
    "plt.suptitle(f'Figur 2 fra notatet')\n",
    "plt.grid(True)\n",
    "plt.axhline(y=max_nye_smittede, color='grey', linestyle='--', label=\"max daglige smittede\")\n",
    "plt.show()"
   ],
   "metadata": {
    "collapsed": false,
    "pycharm": {
     "name": "#%%\n",
     "is_executing": false
    }
   }
  },
  {
   "cell_type": "markdown",
   "source": [
    "Dette stemmer overhovedet ikke med den figuren i notatet, der har en top på under 5000 efter ca. 6 uger (41 dage).\n",
    "\n",
    "Det kan skyldes en kodefejl i indeværende notesbog.\n",
    "\n",
    "Figuren i notatet viser antal dagligt indberettede data.\n",
    "Givet at ikke alle tilfælde indberettes, kan der være en konstant faktor, der mangler, idet\n",
    "vi regner på alle tilfælde.\n",
    "\n",
    "Det kan dog ikke forklare hele forskellen, da vores model også\n",
    "giver en senere top (ca. 60 dage). \n",
    "\n",
    "Dette kunne tyde på, at de har regnet med en højere $R_0$ og dermed en højere $\\beta$\n",
    "end angivet."
   ],
   "metadata": {
    "collapsed": false,
    "pycharm": {
     "name": "#%% md\n"
    }
   }
  },
  {
   "cell_type": "markdown",
   "source": [
    "## Åbne spørgsmål\n",
    "\n",
    "- kontroller vores model mod kendte eksempler for at sikre, at den er implementeret korrekt (f.eks. Hong Kong influenzaen in 1968). "
   ],
   "metadata": {
    "collapsed": false,
    "pycharm": {
     "name": "#%% md\n"
    }
   }
  },
  {
   "cell_type": "markdown",
   "source": [
    " \n",
    "## Empiriske data\n",
    "Data kan hentes fra Sundhedsstyrelsen, [Tal og overvågning](https://www.sst.dk/da/corona/tal-og-overvaagning).\n"
   ],
   "metadata": {
    "collapsed": false,
    "pycharm": {
     "name": "#%% md\n",
     "is_executing": false
    }
   }
  }
 ],
 "metadata": {
  "kernelspec": {
   "display_name": "Python 3",
   "language": "python",
   "name": "python3"
  },
  "language_info": {
   "codemirror_mode": {
    "name": "ipython",
    "version": 2
   },
   "file_extension": ".py",
   "mimetype": "text/x-python",
   "name": "python",
   "nbconvert_exporter": "python",
   "pygments_lexer": "ipython2",
   "version": "2.7.6"
  },
  "pycharm": {
   "stem_cell": {
    "cell_type": "raw",
    "source": [],
    "metadata": {
     "collapsed": false
    }
   }
  }
 },
 "nbformat": 4,
 "nbformat_minor": 0
}