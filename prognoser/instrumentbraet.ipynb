{
 "cells": [
  {
   "cell_type": "markdown",
   "metadata": {
    "collapsed": true,
    "pycharm": {
     "name": "#%% md\n"
    }
   },
   "source": [
    "# Instrumentbræt for COVID-19 i Danmark\n",
    "\n",
    "**Dette dokument viser forskellige nøgletal for COVID-19 i Danmark baseret på daglige tal fra Statens Serum Institut.**\n",
    "\n",
    "*Koden til denne notebook findes på GitHub, se [github.com COVID-19-dk](https://github.com/covid-19-sim/covid-19-dk)*\n",
    "\n",
    "## Datagrundlag\n",
    "\n",
    "Data er indhentet fra Sundhedsstyrelsens hjemmeside for\n",
    "[COVID-19 tal og overvågning](https://www.sst.dk/da/corona/tal-og-overvaagning).\n",
    "\n",
    "Læs mere om datasættet på https://github.com/covid-19-sim/covid-19.sst.dk"
   ]
  },
  {
   "cell_type": "code",
   "execution_count": null,
   "outputs": [],
   "source": [
    "import datetime\n",
    "\n",
    "import numpy as np\n",
    "import pandas as pd\n",
    "import matplotlib.pyplot as plt\n",
    "import matplotlib.dates as mdates\n",
    "import matplotlib.ticker as mticker\n",
    "import seaborn as sns\n",
    "import scipy.optimize\n",
    "from scipy.ndimage.filters import gaussian_filter1d\n",
    "\n",
    "plt.rcParams['figure.figsize'] = [15, 10]\n",
    "plt.rcParams['figure.facecolor'] = '0.9'"
   ],
   "metadata": {
    "collapsed": false,
    "pycharm": {
     "name": "#%%\n"
    }
   }
  },
  {
   "cell_type": "code",
   "execution_count": null,
   "outputs": [],
   "source": [
    "df = pd.read_csv('https://raw.githubusercontent.com/covid-19-sim/covid-19.sst.dk/master/total-covid-19-dk.csv',\n",
    "                 parse_dates=['Date'])\n",
    "\n",
    "# Kontroller at data har det forventede format\n",
    "for c in ['Date', 'Tested', 'Confirmed', 'Total tested', 'Total confirmed', 'Hospitalised', 'ICU', 'ICU-vent', 'Deaths', 'Total deaths']:\n",
    "    assert c in df.columns"
   ],
   "metadata": {
    "collapsed": false,
    "pycharm": {
     "name": "#%%\n"
    }
   }
  },
  {
   "cell_type": "code",
   "execution_count": null,
   "outputs": [],
   "source": [
    "# Epidemistarten er den første dato\n",
    "EPIDEMI_START = pd.Timestamp(\"2020-03-03\")\n",
    "\n",
    "df['Day'] = df['Date'] - EPIDEMI_START\n",
    "df['Day N'] = df['Day'].dt.days\n",
    "\n",
    "#\n",
    "# Udvælg data vi interesserer os for\n",
    "OVERSKRIFTER = {'Tested': 'Prøver',\n",
    "                'Confirmed': 'Positive prøver',\n",
    "                'Total tested': 'Prøver i alt',\n",
    "                'Total confirmed': 'Positive prøver i alt',\n",
    "                'Hospitalised': 'Indlagte',\n",
    "                'ICU': 'Intensiv',\n",
    "                'ICU-vent': 'Intensiv med respirator',\n",
    "                'Total deaths': 'Døde'}\n",
    "\n",
    "kolonner = list(OVERSKRIFTER.keys())\n",
    "\n",
    "# Hvis ikke vi har observationen, så drop rækken\n",
    "data = df[['Day N'] + kolonner]"
   ],
   "metadata": {
    "collapsed": false,
    "pycharm": {
     "name": "#%%\n"
    }
   }
  },
  {
   "cell_type": "code",
   "execution_count": null,
   "outputs": [],
   "source": [
    "fig, axes = plt.subplots(nrows=2,ncols=int(np.ceil(len(kolonner)/2.)), sharey=True)\n",
    "for i, kolonne in enumerate(kolonner):\n",
    "    ax = axes.flat[i]\n",
    "    ax.semilogy(data['Day N'], data[kolonne])\n",
    "    ax.set_xlabel('Dag')\n",
    "    ax.set_ylabel('Antal')\n",
    "    ax.set_title(f'{OVERSKRIFTER[kolonne]}')\n",
    "    ax.grid()"
   ],
   "metadata": {
    "collapsed": false,
    "pycharm": {
     "name": "#%%\n"
    }
   }
  },
  {
   "cell_type": "markdown",
   "source": [
    "## Prøvetagning\n",
    "\n",
    "Status på prøvetagningen kan vises på flere måder.\n",
    "\n",
    "1. Første nøgletal er hvor mange prøver der er taget.\n",
    "2. Andet nøgletal er forholdet mellem antal positive prøver i alt og total prøvetagning.\n",
    "3. Tredie nøgletal er andelen af positive prøver på dagsbasis. Når prøvetagningen bliver bredere konvergerer det mod udbredelsen af sygdommen."
   ],
   "metadata": {
    "collapsed": false,
    "pycharm": {
     "name": "#%% md\n"
    }
   }
  },
  {
   "cell_type": "code",
   "execution_count": null,
   "outputs": [],
   "source": [
    "fig, axes = plt.subplots(nrows=1, ncols=3)\n",
    "\n",
    "ax = axes[0]\n",
    "ax.plot(df['Day N'], df['Total tested'], marker='o')\n",
    "ax.grid()\n",
    "ax.set_title('Antal prøver i alt')\n",
    "ax.set_xlabel('Dag')\n",
    "ax.set_ylabel(OVERSKRIFTER['Total tested'])\n",
    "\n",
    "ax = axes[1]\n",
    "ax.loglog(df['Total tested'], df['Total confirmed'], marker='o')\n",
    "ax.set_xlabel(OVERSKRIFTER['Total tested'])\n",
    "ax.set_ylabel(OVERSKRIFTER['Total confirmed'])\n",
    "ax.grid()\n",
    "ax.set_title('Prøvetagning fremdrift')\n",
    "\n",
    "ax = axes[2]\n",
    "andel_positive = df['Confirmed']/df['Tested']\n",
    "andel_positive_middel = andel_positive.rolling(7).mean()\n",
    "ax.scatter(df['Day N'], andel_positive, marker='o', label='Andel positive')\n",
    "ax.plot(df['Day N'], andel_positive_middel, '--', label='7-dages middel')\n",
    "ax.grid()\n",
    "ax.set_xlabel('Dag')\n",
    "ax.set_ylabel('Andel positive')\n",
    "ax.set_title('Andel positive prøver på dagsbasis')\n",
    "ax.get_yaxis().set_major_formatter(mticker.PercentFormatter(xmax=1))\n",
    "#handles, labels = ax.get_legend_handles_labels()\n",
    "ax.legend(loc='upper right')\n",
    "fig.tight_layout(pad=3)"
   ],
   "metadata": {
    "collapsed": false,
    "pycharm": {
     "name": "#%%\n"
    }
   }
  },
  {
   "cell_type": "code",
   "execution_count": null,
   "outputs": [],
   "source": [
    "\n"
   ],
   "metadata": {
    "collapsed": false,
    "pycharm": {
     "name": "#%%\n"
    }
   }
  }
 ],
 "metadata": {
  "kernelspec": {
   "display_name": "Python 3",
   "language": "python",
   "name": "python3"
  },
  "language_info": {
   "codemirror_mode": {
    "name": "ipython",
    "version": 2
   },
   "file_extension": ".py",
   "mimetype": "text/x-python",
   "name": "python",
   "nbconvert_exporter": "python",
   "pygments_lexer": "ipython2",
   "version": "2.7.6"
  }
 },
 "nbformat": 4,
 "nbformat_minor": 0
}