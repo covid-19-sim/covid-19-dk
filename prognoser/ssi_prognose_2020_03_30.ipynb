{
 "cells": [
  {
   "cell_type": "markdown",
   "metadata": {
    "collapsed": true,
    "pycharm": {
     "name": "#%% md\n"
    }
   },
   "source": [
    "## Færdiggørelse af COVID-19 prognosen fra Statens Seruminstitut og Sundhedsstyrelsen 30. marts 2020\n",
    "\n",
    "Statens prognose er overordnet beskrevet i notatet *COVID-19 i Danmark - Status ved indgang til 5. epidemiuge* \n",
    "(findes i kopi her: [Status_COVID19_femte_uge.pdf](Status_COVID19_femte_uge.pdf), ellers \n",
    "henvises til litteraturlisten i i [README.md](README.md)).\n",
    "\n",
    "Her modellerer vi epidemikurven og den prognose, som behændigt er udeladt fra notatet.\n",
    "\n",
    "Beskrivelsen af modellen starter i afsnit 4 om prognoser på side 22.\n",
    "\n",
    "Vi forsøger at genskabe notatets model, der denne gang er lidt bedre beskrevet; bl.a. nævner de at det *er* en \n",
    "SIR-model.\n",
    "\n",
    "### Hvor længe skal Danmark være lukket?\n",
    "Dette svarer de ikke på - faktisk snakker de meget om \"røde\" og \"grønne\" kurver (den røde er den hurtige epidemi, hvor\n",
    "sundhedsvæsenet bryder sammen på grund af overefterspørgsel, den grønne er en lavere, hvor behandlingsbehovet holder \n",
    "sig under sundhedsvæsenets kapacitet). \n",
    "\n",
    "Notatet nævner, at vi er på den \"grønne kurve\", men viser ikke prognosen. "
   ]
  },
  {
   "cell_type": "markdown",
   "metadata": {},
   "source": [
    "Lad os komme i gang. Først har vi brug for nogle databehandlingspakker:"
   ]
  },
  {
   "cell_type": "code",
   "execution_count": null,
   "metadata": {
    "pycharm": {
     "is_executing": false,
     "name": "#%%\n"
    }
   },
   "outputs": [],
   "source": [
    "import numpy as np\n",
    "import matplotlib.pyplot as plt\n",
    "import pandas as pd\n",
    "import seaborn as sns\n",
    "from scipy.integrate import odeint\n",
    "\n",
    "import datetime\n",
    "import collections"
   ]
  },
  {
   "cell_type": "markdown",
   "metadata": {
    "pycharm": {
     "name": "#%% md\n"
    }
   },
   "source": [
    "## Antagelser"
   ]
  },
  {
   "cell_type": "markdown",
   "metadata": {
    "pycharm": {
     "name": "#%% md\n"
    }
   },
   "source": [
    "### Epidemistarten\n",
    "Notate nævner (p. 22), at der er påvist tilfælde af COVID-19 allerede i den første uge af marts. Epidemistartsdatoen \n",
    "er er således knapt to uger tidligere, end antaget i deres seneste notat."
   ]
  },
  {
   "cell_type": "code",
   "execution_count": null,
   "metadata": {
    "pycharm": {
     "is_executing": false,
     "name": "#%%\n"
    }
   },
   "outputs": [],
   "source": [
    "EPIDEMI_START = datetime.date(2020,3,1)"
   ]
  },
  {
   "cell_type": "markdown",
   "metadata": {},
   "source": [
    "## Befolkningsantagelser\n",
    "Vi regner med 5,8 mio. personer i Danmark.\n",
    "Kilde: [Danmarks Statistiks Folketal](https://www.dst.dk/da/Statistik/emner/befolkning-og-valg/befolkning-og-befolkningsfremskrivning/folketal)."
   ]
  },
  {
   "cell_type": "code",
   "execution_count": null,
   "metadata": {
    "pycharm": {
     "is_executing": false,
     "name": "#%%\n"
    }
   },
   "outputs": [],
   "source": [
    "# Total befolkning\n",
    "BEFOLKNINGSTAL_DANMARK = 5_800_000"
   ]
  },
  {
   "cell_type": "markdown",
   "metadata": {
    "pycharm": {
     "name": "#%% md\n"
    }
   },
   "source": [
    "## SIR-modellen\n",
    "[SIR-modellen](https://da.wikipedia.org/wiki/SIR-modellen) er en simpel infektionsmodel.\n",
    "\n",
    "S, I, og R står for henholdsvis *Susceptible* (hvor man kan få sygdommen, som ikke har haft den endnu), \n",
    "*Infectuous* (hvor mange har den nu og kan smitte andre), og de \n",
    "*Recovered* (dem der ikke længere har sygdommen, både de helbredte og de døde).\n",
    "\n",
    "Udviklingen over tid beskrives med nogle simple differentialligninger.\n",
    "\n",
    "Modellen er også vist med kodeeksempler i [SciPython-bogen](https://scipython.com/book/chapter-8-scipy/additional-examples/the-sir-epidemic-model/).\n",
    "Disse danner udgangspunkt for nedenstående.\n"
   ]
  },
  {
   "cell_type": "markdown",
   "metadata": {},
   "source": [
    "## Smitteantagelser\n",
    "$\\beta$ (beta) beskriver hvor smitsom sygdommen er.\n",
    "\n",
    "$\\gamma$ (gamma) beskriver hvor hurtigt folk holder op med at være smitsomme, det reciprokke af \n",
    " hvor mange dage de smitter.\n",
    "\n",
    "*Reproduktionstallet* $R_0$ (engelsk, \"R-nought\") angiver hvor mange andre en \n",
    "smittet person smitter.\n",
    "\n",
    "I SIR-modellen kan det udtrykkes som:\n",
    "\n",
    "$$R_0 = {\\beta\\over\\gamma}$$\n",
    "\n",
    "Bemærk, at $R_0$ ikke er det samme som værdien for $R$ (antal \"recovered\") til tiden $t=0$. \n",
    "\n",
    "### Norditalien\n",
    "Notatet anvender Norditalien som sammenligning uden at angive parametrene, men \n",
    "i det foregående notatet har vi nogle af værdierne:\n"
   ]
  },
  {
   "cell_type": "code",
   "execution_count": null,
   "metadata": {
    "pycharm": {
     "is_executing": false,
     "name": "#%%\n"
    }
   },
   "outputs": [],
   "source": [
    "SIRParametre = collections.namedtuple('SIRParametre', ['navn', 'befolkningstal', 'beta', 'gamma'])\n",
    "\n",
    "# Notatet fra sidste uge antog, at folk kan smitte i 7 dage (dvs. 1/7 holder op med at smitte pr dag)\n",
    "gamma = 1./7\n",
    "\n",
    "# Notatet fra sidste uge antog, at syge smitter 2,6 personer \n",
    "# (dette er reproduktionsraten R0, forholdet mellem beta og gamma)\n",
    "R0_it = 2.6\n",
    "beta_it = R0_it*gamma\n",
    "\n",
    "# Notatet nævner, at der er 18 mio. indbyggere i Norditalien\n",
    "NORDITALIEN_PARAMETRE = SIRParametre('Norditalien', 18_000_000, beta_it, gamma)"
   ]
  },
  {
   "cell_type": "code",
   "execution_count": null,
   "metadata": {
    "pycharm": {
     "is_executing": false,
     "name": "#%%\n"
    }
   },
   "outputs": [],
   "source": [
    "# Tid i dage \n",
    "UGER = 26\n",
    "t = np.linspace(0, UGER*7, UGER*7)"
   ]
  },
  {
   "cell_type": "code",
   "execution_count": null,
   "metadata": {
    "pycharm": {
     "is_executing": false,
     "name": "#%% \n"
    }
   },
   "outputs": [],
   "source": [
    "# SIR modellens differentialligninger\n",
    "def afledte(y, t, N, beta, gamma):\n",
    "    S, I, R = y\n",
    "    dSdt = -beta * S * I / N\n",
    "    dIdt = beta * S * I / N - gamma * I\n",
    "    dRdt = gamma * I\n",
    "    return dSdt, dIdt, dRdt\n",
    "\n",
    "# Udgangspunktet, antal personer i hhv. tilstandene, S, I og R\n",
    "# Vi anvender _start som betegnelse for ikke at skabe\n",
    "# forvirring om reproduktionstallet R0 og startværdien for R.\n",
    "\n",
    "def sir_prognose(angrebsrate, sir_parametre):\n",
    "    assert 0 < angrebsrate <= 1.0\n",
    "    assert sir_parametre.befolkningstal > 0\n",
    "    \n",
    "    # Det er ikke alle i befolkningen, der er modtagelige\n",
    "    N = angrebsrate * sir_parametre.befolkningstal\n",
    "    \n",
    "    I_start, R_start = 1, 0\n",
    "    # Resten er *susceptible* ved start, Sstart.\n",
    "    S_start = N - I_start - R_start\n",
    "    \n",
    "    # Starttilstandsvektor\n",
    "    y_start = S_start, I_start, R_start\n",
    "    \n",
    "    # Integrer SIR-modellen equations over the tidsaksen, t.\n",
    "    ret = odeint(afledte, y_start, t, args=(N, sir_parametre.beta, sir_parametre.gamma))\n",
    "    S, I, R = ret.T\n",
    "    \n",
    "    return S.astype(np.int), I.astype(np.int), R.astype(np.int)"
   ]
  },
  {
   "cell_type": "markdown",
   "metadata": {},
   "source": [
    "Sådan ser totalerne ud: "
   ]
  },
  {
   "cell_type": "code",
   "execution_count": null,
   "metadata": {
    "pycharm": {
     "is_executing": false,
     "name": "#%%\n"
    }
   },
   "outputs": [],
   "source": [
    "def plot_sir(parametre, t, s, i, r):\n",
    "    # Plot the data on three separate curves for S(t), I(t) and R(t)\n",
    "    fig = plt.figure(facecolor='w')\n",
    "    \n",
    "    ax = fig.add_subplot(111, axisbelow=True)\n",
    "    ax.plot(t, s/1_000, 'b', alpha=0.5, lw=2, label='S: Modtagelige (Susceptible)')\n",
    "    ax.plot(t, i/1_000, 'r', alpha=0.5, lw=2, label='I: Smittede (Infected)')\n",
    "    ax.plot(t, r/1_000, 'g', alpha=0.5, lw=2, label='R: Helbredte (Recovered)')\n",
    "    ax.set_xlabel('Tid (dage)')\n",
    "    ax.set_ylabel('Antal (1000er)')\n",
    "    ax.yaxis.set_tick_params(length=0)\n",
    "    ax.xaxis.set_tick_params(length=0)\n",
    "    ax.grid(b=True, which='major', c='grey', lw=1, ls='-')\n",
    "    legend = ax.legend()\n",
    "    legend.get_frame().set_alpha(0.5)\n",
    "    for spine in ('top', 'right', 'bottom', 'left'):\n",
    "        ax.spines[spine].set_visible(False)\n",
    "    ax.set_title(parametre.navn)\n",
    "    return ax\n",
    "    "
   ]
  },
  {
   "cell_type": "code",
   "execution_count": null,
   "metadata": {
    "pycharm": {
     "is_executing": false,
     "name": "#%%\n"
    }
   },
   "outputs": [],
   "source": []
  },
  {
   "cell_type": "code",
   "execution_count": null,
   "metadata": {
    "pycharm": {
     "is_executing": false,
     "name": "#%%\n"
    }
   },
   "outputs": [],
   "source": [
    "S,I,R = sir_prognose(angrebsrate=0.10, sir_parametre=NORDITALIEN_PARAMETRE)\n",
    "ax = plot_sir(NORDITALIEN_PARAMETRE, t, S, I, R)\n",
    "plt.show(ax)"
   ]
  },
  {
   "cell_type": "markdown",
   "metadata": {
    "pycharm": {
     "is_executing": false,
     "name": "#%% md\n"
    }
   },
   "source": [
    "Hvis vi plotter for Danmark med den nye 1,4 smitterate tager det lang tid at komme gennem bølgen:"
   ]
  },
  {
   "cell_type": "code",
   "execution_count": null,
   "metadata": {
    "pycharm": {
     "is_executing": false,
     "name": "#%%\n"
    }
   },
   "outputs": [],
   "source": [
    "# Danske forhold\n",
    "beta_dk = 1.4 * gamma  \n",
    "DANMARK_PARAMETRE = SIRParametre('Danmark', BEFOLKNINGSTAL_DANMARK, beta_dk, gamma)\n",
    "\n",
    "S,I,R = sir_prognose(angrebsrate=0.1, sir_parametre=DANMARK_PARAMETRE)\n",
    "ax = plot_sir(DANMARK_PARAMETRE, t, S, I, R)\n",
    "plt.show(ax)\n"
   ]
  },
  {
   "cell_type": "markdown",
   "metadata": {
    "pycharm": {
     "is_executing": false,
     "name": "#%% md\n"
    }
   },
   "source": [
    "Der er således brug for at kunne skifte beta undervejs, da den startede på $2,6 \\gamma$ og nu er faldet til $1,4\\gamma$.\n",
    "\n",
    "  \n",
    "\n",
    "\n"
   ]
  }
 ],
 "metadata": {
  "kernelspec": {
   "display_name": "Python 3",
   "language": "python",
   "name": "python3"
  },
  "language_info": {
   "codemirror_mode": {
    "name": "ipython",
    "version": 3
   },
   "file_extension": ".py",
   "mimetype": "text/x-python",
   "name": "python",
   "nbconvert_exporter": "python",
   "pygments_lexer": "ipython3",
   "version": "3.7.5"
  },
  "pycharm": {
   "stem_cell": {
    "cell_type": "raw",
    "metadata": {
     "collapsed": false
    },
    "source": []
   }
  }
 },
 "nbformat": 4,
 "nbformat_minor": 1
}
