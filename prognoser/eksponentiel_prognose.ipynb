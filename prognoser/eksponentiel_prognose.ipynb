{
 "cells": [
  {
   "cell_type": "markdown",
   "metadata": {
    "collapsed": true,
    "pycharm": {
     "name": "#%% md\n"
    }
   },
   "source": [
    "# Fremskrivning af epidemikurven for COVID-19 i Danmark\n",
    "\n",
    "**Dette dokument danner en eksponentiel fremskriver epidemikurven ud fra dagsaktuelle tal for smittede,\n",
    " indlagt og døde.**\n",
    "\n",
    "*Koden til denne notebook findes på GitHub, se [github.com COVID-19-dk](https://github.com/covid-19-sim/covid-19-dk)*\n",
    "\n",
    "## Metode\n",
    "Vi anvender eksponentiel fremskrivning.\n",
    "\n",
    "Det er en meget grovkornet metode, som kun kan bruges til kortsigtede fremskrivninger, da den ikke tager højde for\n",
    "at epidemien over tid har færre og færre raske at ramme (dvs. at kurven begynder at bue nedad).\n",
    "\n",
    "Den er dog relevant, da det er en fin måde at vise data på i starten af epidemien og få en idé om den aktuelle vækstrate.\n",
    "\n",
    "## Datagrundlag\n",
    "\n",
    "Data er indhentet fra Sundhedsstyrelsens hjemmeside for \n",
    "[COVID-19 tal og overvågning](https://www.sst.dk/da/corona/tal-og-overvaagning).\n",
    "\n",
    "Læs mere om datasættet på https://github.com/covid-19-sim/covid-19.sst.dk"
   ]
  },
  {
   "cell_type": "code",
   "execution_count": null,
   "metadata": {
    "pycharm": {
     "is_executing": false,
     "name": "#%%\n"
    }
   },
   "outputs": [],
   "source": [
    "import datetime\n",
    "\n",
    "import numpy as np\n",
    "import pandas as pd\n",
    "import matplotlib.pyplot as plt\n",
    "import matplotlib.dates as mdates\n",
    "import seaborn as sns\n",
    "import scipy.optimize"
   ]
  },
  {
   "cell_type": "code",
   "execution_count": null,
   "metadata": {
    "pycharm": {
     "is_executing": false,
     "name": "#%%\n"
    }
   },
   "outputs": [],
   "source": [
    "df = pd.read_csv('https://raw.githubusercontent.com/covid-19-sim/covid-19.sst.dk/master/total-covid-19-dk.csv',\n",
    "                 parse_dates=['Date'])\n",
    "\n",
    "df.head(1000)"
   ]
  },
  {
   "cell_type": "code",
   "execution_count": null,
   "metadata": {
    "pycharm": {
     "is_executing": false,
     "name": "#%%\n"
    }
   },
   "outputs": [],
   "source": [
    "# Kontroller at data har det forventede format\n",
    "for c in ['Date', 'Total tested', 'Total confirmed', 'Hospitalised', 'ICU', 'ICU-vent', 'Deaths', 'Total deaths']:\n",
    "    assert c in df.columns    "
   ]
  },
  {
   "cell_type": "code",
   "execution_count": null,
   "metadata": {
    "pycharm": {
     "is_executing": false,
     "name": "#%%\n"
    }
   },
   "outputs": [],
   "source": [
    "# Epidemistarten er den første dato \n",
    "EPIDEMI_START = pd.Timestamp(\"2020-03-03\")\n",
    "\n",
    "df['Day'] = df['Date'] - EPIDEMI_START\n",
    "df['Day N'] = df['Day'].dt.days\n"
   ]
  },
  {
   "cell_type": "markdown",
   "metadata": {
    "pycharm": {
     "name": "#%% md\n"
    }
   },
   "source": [
    "## Faktiske indlæggelser og dødsfald\n",
    "Datasættet ser således ud når vi tegner graferne med henholdsvis lineær og logaritmisk y-akse.\n",
    "Husk at en ret linie på logaritmisk y-akse svarer til konstant procentuel daglig tilvækst.   "
   ]
  },
  {
   "cell_type": "code",
   "execution_count": null,
   "metadata": {
    "pycharm": {
     "is_executing": false,
     "name": "#%%\n"
    }
   },
   "outputs": [],
   "source": [
    "# Udvælg data vi interesserer os for\n",
    "OVERSKRIFTER = {'Hospitalised': 'Indlagte', \n",
    "                'ICU': 'Intensiv', \n",
    "                'ICU-vent': 'Intensiv med respirator', \n",
    "                'Total deaths': 'Døde'}\n",
    "\n",
    "kolonner = list(OVERSKRIFTER.keys())"
   ]
  },
  {
   "cell_type": "code",
   "execution_count": null,
   "metadata": {
    "pycharm": {
     "is_executing": false,
     "name": "#%%\n"
    }
   },
   "outputs": [],
   "source": [
    "for is_log_plot, titel in [[False, \"Lineær\"], [True, \"Logaritmisk\"]]:\n",
    "    ax = df.plot(x='Day N', y=kolonner, grid=True, logy=is_log_plot,\n",
    "            title=f'{titel}: Antal siden epidemistart {EPIDEMI_START.date().strftime(\"%d-%m-%Y\")}')\n",
    "    plt.xlabel('Dage siden epidemistart')\n",
    "    plt.ylabel('Antal')\n",
    "    plt.show()"
   ]
  },
  {
   "cell_type": "markdown",
   "metadata": {
    "pycharm": {
     "name": "#%% md\n"
    }
   },
   "source": [
    "## Eksponentiel fremskrivning\n",
    "\n",
    "Vi estimerer $a$ og $b$ en simpel eksponentialfunktion til dødsfaldskurven, \n",
    "\n",
    "$$\\hat{y} = a e^{b x}$$ \n",
    "\n",
    "$x$ er dage siden epidemistart, $\\hat{y}$ er det estimere antal døde. \n",
    "\n",
    "SciPy har en indbygget funktion til at dette, `curve_fit`:"
   ]
  },
  {
   "cell_type": "code",
   "execution_count": null,
   "metadata": {
    "pycharm": {
     "is_executing": false,
     "name": "#%%\n"
    }
   },
   "outputs": [],
   "source": [
    "# Hvis ikke vi har observationen, så drop rækken\n",
    "data = df[['Day N'] + kolonner]\n",
    "\n",
    "def exp_func(x, a, b):\n",
    "    return a * np.exp(b * x)\n",
    "\n",
    "def estimer_a_b(xs,ys):\n",
    "    \"\"\"Estimer a og b baseret på alle observationer\"\"\"\n",
    "    popt, pcov = scipy.optimize.curve_fit(exp_func, xs, ys)\n",
    "    a,b = popt\n",
    "    return a,b    "
   ]
  },
  {
   "cell_type": "markdown",
   "metadata": {
    "pycharm": {
     "name": "#%% md\n"
    }
   },
   "source": [
    "Vi kan også beregne en rullende prognose baseret på kun de nyeste observationer. Dette giver os mulighed for at \n",
    "se tendensen."
   ]
  },
  {
   "cell_type": "code",
   "execution_count": null,
   "metadata": {
    "pycharm": {
     "is_executing": false,
     "name": "#%%\n"
    }
   },
   "outputs": [],
   "source": [
    "TENDENS_DAGE = 5\n",
    "\n",
    "def estimer_tendens(xs,ys):\n",
    "    \"\"\"Estimer a og b på bases af de seneste dages observationer (rullende prognose)\"\"\"\n",
    "    popt, pcov = scipy.optimize.curve_fit(exp_func, xs[-TENDENS_DAGE-1:], ys[-TENDENS_DAGE-1:])\n",
    "    a,b = popt\n",
    "    return a,b    "
   ]
  },
  {
   "cell_type": "code",
   "execution_count": null,
   "metadata": {
    "pycharm": {
     "is_executing": false,
     "name": "#%%\n"
    }
   },
   "outputs": [],
   "source": [
    "# Estimer alle kolonnerne\n",
    "estimater = {}\n",
    "\n",
    "for k in kolonner:\n",
    "    data_renset = data[['Day N', k]].dropna()\n",
    "    x_data = data_renset['Day N']\n",
    "    y_data = data_renset[k]\n",
    "    a, b = estimer_a_b(x_data,y_data)\n",
    "    a_tendens, b_tendens = estimer_tendens(x_data, y_data)\n",
    "    overskrift = OVERSKRIFTER[k]\n",
    "    print(f'{overskrift:30}: a         = {a}')\n",
    "    print(f'{overskrift:30}: b         = {b}')\n",
    "    print(f'{overskrift:30}: a_tendens = {a_tendens}')\n",
    "    print(f'{overskrift:30}: b_tendens = {b_tendens}')\n",
    "    print()\n",
    "    estimater[k] = {'a': a, 'b': b, 'x_data': x_data, 'y_data': y_data, \n",
    "                    'a_tendens': a_tendens, 'b_tendens': b_tendens} \n"
   ]
  },
  {
   "cell_type": "markdown",
   "metadata": {
    "pycharm": {
     "is_executing": false,
     "name": "#%% md\n"
    }
   },
   "source": [
    "Den daglige vækstrate er $${{\\hat{y}_{t+1}}\\over{\\hat{y}_t}} = e^b$$ hvor $t$ angiver dage siden epidemistart."
   ]
  },
  {
   "cell_type": "code",
   "execution_count": null,
   "metadata": {
    "pycharm": {
     "is_executing": false,
     "name": "#%%\n"
    }
   },
   "outputs": [],
   "source": [
    "# Vis den daglige vækstrate\n",
    "for k in kolonner:\n",
    "    daglig_vaekstrate = np.exp(estimater[k]['b'])\n",
    "    print(f'{OVERSKRIFTER[k]:30}: Daglig vækst i antal: {int(100*(daglig_vaekstrate-1))}%')"
   ]
  },
  {
   "cell_type": "code",
   "execution_count": null,
   "metadata": {
    "pycharm": {
     "is_executing": false,
     "name": "#%%\n"
    }
   },
   "outputs": [],
   "source": [
    "# Højeste dato med en faktisk observation, herefter følger prognosen\n",
    "day_N_max_alle = int(np.max(data[['Day N']]))\n",
    "date_max_alle = datetime.timedelta(days=day_N_max_alle) + EPIDEMI_START\n",
    "\n",
    "FREMSKRIV_DAGE = 30\n",
    "x_data_alle = np.arange(0, day_N_max_alle+FREMSKRIV_DAGE+1)\n",
    "x_data_fremskrivning = x_data_alle[-FREMSKRIV_DAGE-1:]"
   ]
  },
  {
   "cell_type": "markdown",
   "metadata": {
    "pycharm": {
     "is_executing": false,
     "name": "#%% md\n"
    }
   },
   "source": [
    "Så er vi klar til at tegne grafer med data og prognoser:"
   ]
  },
  {
   "cell_type": "code",
   "execution_count": null,
   "metadata": {
    "pycharm": {
     "is_executing": false,
     "name": "#%%\n"
    },
    "scrolled": false
   },
   "outputs": [],
   "source": [
    "f1 = 15\n",
    "f2 = 30\n",
    "for k in kolonner:\n",
    "    a = estimater[k]['a']\n",
    "    b = estimater[k]['b']\n",
    "    a_tendens = estimater[k]['a_tendens']\n",
    "    b_tendens = estimater[k]['b_tendens']\n",
    "    x_data = estimater[k]['x_data']\n",
    "    y_data = estimater[k]['y_data']\n",
    "    overskrift = OVERSKRIFTER[k] \n",
    "\n",
    "    day_N_max = int(np.max(x_data))\n",
    "    date_max = datetime.timedelta(days=day_N_max) + EPIDEMI_START\n",
    "\n",
    "    y_data_fremskrivning = exp_func(x_data_fremskrivning, a, b)\n",
    "\n",
    "    x_data_tendens_fremskrivning = x_data_alle[-(1+TENDENS_DAGE+FREMSKRIV_DAGE):]\n",
    "    y_data_tendens_fremskrivning = exp_func(x_data_tendens_fremskrivning, a_tendens, b_tendens)\n",
    "    \n",
    "    plt.plot(x_data_alle, exp_func(x_data_alle, a, b), c='grey', ls='-', label='fit: a=%5.3f, b=%5.3f' % (a,b))\n",
    "    plt.plot(x_data_fremskrivning, y_data_fremskrivning, c='grey', ls='--', label='prognose')\n",
    "    plt.scatter(x_data, y_data, c='black', label=f'faktiske {overskrift.lower()}')\n",
    "    plt.plot(x_data_tendens_fremskrivning, y_data_tendens_fremskrivning, c='green', ls=':', label=f'tendens (seneste {TENDENS_DAGE} dage)')\n",
    "    \n",
    "    nyeste_xy = (x_data.to_list()[-1] + .5, y_data.to_list()[-1])\n",
    "    plt.annotate(f'{int(nyeste_xy[1])}', nyeste_xy) \n",
    "    \n",
    "    plt.xlabel(f'Dage siden epidemistart {EPIDEMI_START.strftime(\"%d-%m-%Y\")}')\n",
    "    plt.ylabel(f'Antal {overskrift.lower()}')\n",
    "    plt.axvline(day_N_max, color='k', linestyle=':', \n",
    "                label=f'Nyeste observation {date_max.date().strftime(\"%d-%m-%Y\")}')\n",
    "    plt.axvline(day_N_max_alle+f1, color='k', linestyle=':', \n",
    "                label=f'om {f1} dage {(date_max_alle+mdates.num2timedelta(f1)).date().strftime(\"%d-%m-%Y\")}')\n",
    "    plt.axhline(y_data_tendens_fremskrivning[TENDENS_DAGE+f1], color='k', linestyle=':', \n",
    "                label=f'om {f1} dage {(date_max_alle+mdates.num2timedelta(f1)).date().strftime(\"%d-%m-%Y\")}:{int(y_data_tendens_fremskrivning[TENDENS_DAGE+f1])}')\n",
    "    plt.legend(loc='center left', bbox_to_anchor=(1.0, 0.5))\n",
    "    plt.suptitle(f'{overskrift}\\nFaktiske antal og eksponentiel prognose')\n",
    "    plt.yscale('log')\n",
    "    plt.grid()\n",
    "    \n",
    "    plt.show()\n",
    "    print(f'om {f1} dage {(date_max_alle+mdates.num2timedelta(f1)).date().strftime(\"%d-%m-%Y\")}:{int(y_data_tendens_fremskrivning[TENDENS_DAGE+f1])}')\n",
    "    print(f'om {f2} dage {(date_max_alle+mdates.num2timedelta(f2)).date().strftime(\"%d-%m-%Y\")}:{int(y_data_tendens_fremskrivning[TENDENS_DAGE+f2])}')\n",
    "    "
   ]
  },
  {
   "cell_type": "code",
   "execution_count": null,
   "metadata": {
    "pycharm": {
     "is_executing": false,
     "name": "#%%\n"
    }
   },
   "outputs": [],
   "source": []
  }
 ],
 "metadata": {
  "kernelspec": {
   "display_name": "Python 3",
   "language": "python",
   "name": "python3"
  },
  "language_info": {
   "codemirror_mode": {
    "name": "ipython",
    "version": 3
   },
   "file_extension": ".py",
   "mimetype": "text/x-python",
   "name": "python",
   "nbconvert_exporter": "python",
   "pygments_lexer": "ipython3",
   "version": "3.7.5"
  },
  "pycharm": {
   "stem_cell": {
    "cell_type": "raw",
    "metadata": {
     "collapsed": false
    },
    "source": []
   }
  }
 },
 "nbformat": 4,
 "nbformat_minor": 1
}
